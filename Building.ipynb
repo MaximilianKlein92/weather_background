{
 "cells": [
  {
   "cell_type": "markdown",
   "id": "ce922545",
   "metadata": {},
   "source": [
    "## Script for getting the weather of a location "
   ]
  },
  {
   "cell_type": "code",
   "execution_count": 1,
   "id": "56e82a1c",
   "metadata": {},
   "outputs": [
    {
     "name": "stdout",
     "output_type": "stream",
     "text": [
      "Temperature: 18.4°C\n",
      "Windspeed: 16.1 km/h\n"
     ]
    }
   ],
   "source": [
    "import requests\n",
    "\n",
    "# API endpoint (Open-Meteo provides free weather data without API key)\n",
    "url = \"https://api.open-meteo.com/v1/forecast\"\n",
    "params = {\n",
    "    \"latitude\": 52.52,     # Berlin\n",
    "    \"longitude\": 13.41,    # Berlin\n",
    "    \"current_weather\": True\n",
    "}\n",
    "\n",
    "# Send GET request\n",
    "response = requests.get(url, params=params)\n",
    "\n",
    "# Convert to JSON\n",
    "data = response.json()\n",
    "\n",
    "# Extract values\n",
    "current_weather = data[\"current_weather\"]\n",
    "print(f\"Temperature: {current_weather['temperature']}°C\")\n",
    "print(f\"Windspeed: {current_weather['windspeed']} km/h\")"
   ]
  },
  {
   "cell_type": "markdown",
   "id": "66cd2a22",
   "metadata": {},
   "source": [
    "### Mapping the weather codes "
   ]
  },
  {
   "cell_type": "code",
   "execution_count": 2,
   "id": "ee7b5c4f",
   "metadata": {},
   "outputs": [
    {
     "name": "stdout",
     "output_type": "stream",
     "text": [
      "Rain: Slight\n"
     ]
    }
   ],
   "source": [
    "# Weather code mapping\n",
    "weather_codes = {\n",
    "    0: \"Clear sky\",\n",
    "    1: \"Mainly clear\",\n",
    "    2: \"Partly cloudy\",\n",
    "    3: \"Overcast\",\n",
    "    45: \"Fog\",\n",
    "    48: \"Depositing rime fog\",\n",
    "    51: \"Drizzle: Light\",\n",
    "    53: \"Drizzle: Moderate\",\n",
    "    55: \"Drizzle: Dense intensity\",\n",
    "    56: \"Freezing Drizzle: Light\",\n",
    "    57: \"Freezing Drizzle: Dense\",\n",
    "    61: \"Rain: Slight\",\n",
    "    63: \"Rain: Moderate\",\n",
    "    65: \"Rain: Heavy\",\n",
    "    66: \"Freezing Rain: Light\",\n",
    "    67: \"Freezing Rain: Heavy\",\n",
    "    71: \"Snow fall: Slight\",\n",
    "    73: \"Snow fall: Moderate\",\n",
    "    75: \"Snow fall: Heavy\",\n",
    "    77: \"Snow grains\",\n",
    "    80: \"Rain showers: Slight\",\n",
    "    81: \"Rain showers: Moderate\",\n",
    "    82: \"Rain showers: Violent\",\n",
    "    85: \"Snow showers: Slight\",\n",
    "    86: \"Snow showers: Heavy\",\n",
    "    95: \"Thunderstorm: Slight or moderate\",\n",
    "    96: \"Thunderstorm with slight hail\",\n",
    "    99: \"Thunderstorm with heavy hail\"\n",
    "}\n",
    "\n",
    "def get_weather_description(code):\n",
    "    return weather_codes.get(code, \"Unknown weather code\")\n",
    "\n",
    "# Example:\n",
    "print(get_weather_description(61))  # Output: Rain: Slight"
   ]
  },
  {
   "cell_type": "markdown",
   "id": "3984212d",
   "metadata": {},
   "source": [
    "\n",
    "- Fetches live weather data for a given location\n",
    "- Converts weather code → description\n",
    "- Converts is_day → Day/Night\n",
    "- Prints temperature, wind speed, and readable weather info "
   ]
  },
  {
   "cell_type": "code",
   "execution_count": 5,
   "id": "c9efe152",
   "metadata": {},
   "outputs": [
    {
     "name": "stdout",
     "output_type": "stream",
     "text": [
      "Temperature: 18.5°C\n",
      "Windspeed: 16.2 km/h\n",
      "Condition: Rain: Slight\n",
      "Time of Day: Day\n"
     ]
    }
   ],
   "source": [
    "import requests\n",
    "\n",
    "# Weather code mapping\n",
    "weather_codes = {\n",
    "    0: \"Clear sky\",\n",
    "    1: \"Mainly clear\",\n",
    "    2: \"Partly cloudy\",\n",
    "    3: \"Overcast\",\n",
    "    45: \"Fog\",\n",
    "    48: \"Depositing rime fog\",\n",
    "    51: \"Drizzle: Light\",\n",
    "    53: \"Drizzle: Moderate\",\n",
    "    55: \"Drizzle: Dense intensity\",\n",
    "    56: \"Freezing Drizzle: Light\",\n",
    "    57: \"Freezing Drizzle: Dense\",\n",
    "    61: \"Rain: Slight\",\n",
    "    63: \"Rain: Moderate\",\n",
    "    65: \"Rain: Heavy\",\n",
    "    66: \"Freezing Rain: Light\",\n",
    "    67: \"Freezing Rain: Heavy\",\n",
    "    71: \"Snow fall: Slight\",\n",
    "    73: \"Snow fall: Moderate\",\n",
    "    75: \"Snow fall: Heavy\",\n",
    "    77: \"Snow grains\",\n",
    "    80: \"Rain showers: Slight\",\n",
    "    81: \"Rain showers: Moderate\",\n",
    "    82: \"Rain showers: Violent\",\n",
    "    85: \"Snow showers: Slight\",\n",
    "    86: \"Snow showers: Heavy\",\n",
    "    95: \"Thunderstorm: Slight or moderate\",\n",
    "    96: \"Thunderstorm with slight hail\",\n",
    "    99: \"Thunderstorm with heavy hail\"\n",
    "}\n",
    "\n",
    "def get_weather_description(code):\n",
    "    return weather_codes.get(code, \"Unknown weather code\")\n",
    "\n",
    "def get_weather(latitude, longitude):\n",
    "    url = \"https://api.open-meteo.com/v1/forecast\"\n",
    "    params = {\n",
    "        \"latitude\": latitude,\n",
    "        \"longitude\": longitude,\n",
    "        \"current_weather\": True\n",
    "    }\n",
    "    \n",
    "    response = requests.get(url, params=params)\n",
    "    data = response.json()\n",
    "    \n",
    "    current_weather = data[\"current_weather\"]\n",
    "    \n",
    "    temperature = current_weather[\"temperature\"]\n",
    "    windspeed = current_weather[\"windspeed\"]\n",
    "    weather_code = current_weather[\"weathercode\"]\n",
    "    is_day = current_weather[\"is_day\"]\n",
    "    \n",
    "    # Convert values\n",
    "    description = get_weather_description(weather_code)\n",
    "    day_status = \"Day\" if is_day == 1 else \"Night\"\n",
    "    \n",
    "    return {\n",
    "        \"temperature\": temperature,\n",
    "        \"windspeed\": windspeed,\n",
    "        \"description\": description,\n",
    "        \"time_of_day\": day_status\n",
    "    }\n",
    "\n",
    "# Example: Berlin\n",
    "weather = get_weather(52.52, 13.41)\n",
    "print(f\"Temperature: {weather['temperature']}°C\")\n",
    "print(f\"Windspeed: {weather['windspeed']} km/h\")\n",
    "print(f\"Condition: {weather['description']}\")\n",
    "print(f\"Time of Day: {weather['time_of_day']}\")"
   ]
  },
  {
   "cell_type": "markdown",
   "id": "12478c94",
   "metadata": {},
   "source": [
    "# Auto Detect Location + Weather"
   ]
  },
  {
   "cell_type": "code",
   "execution_count": null,
   "id": "26a423ff",
   "metadata": {},
   "outputs": [
    {
     "name": "stdout",
     "output_type": "stream",
     "text": [
      "📍 Location: Berlin, DE\n",
      "🌡 Temperature: 18.5°C\n",
      "💨 Windspeed: 16.2 km/h\n",
      "☁ Condition: Rain: Slight\n",
      "🕒 Time of Day: Day\n"
     ]
    },
    {
     "ename": "",
     "evalue": "",
     "output_type": "error",
     "traceback": [
      "\u001b[1;31mThe Kernel crashed while executing code in the current cell or a previous cell. \n",
      "\u001b[1;31mPlease review the code in the cell(s) to identify a possible cause of the failure. \n",
      "\u001b[1;31mClick <a href='https://aka.ms/vscodeJupyterKernelCrash'>here</a> for more info. \n",
      "\u001b[1;31mView Jupyter <a href='command:jupyter.viewOutput'>log</a> for further details."
     ]
    }
   ],
   "source": [
    "import requests\n",
    "\n",
    "# Weather code mapping\n",
    "weather_codes = {\n",
    "    0: \"Clear sky\", 1: \"Mainly clear\", 2: \"Partly cloudy\", 3: \"Overcast\",\n",
    "    45: \"Fog\", 48: \"Depositing rime fog\", 51: \"Drizzle: Light\", 53: \"Drizzle: Moderate\",\n",
    "    55: \"Drizzle: Dense intensity\", 56: \"Freezing Drizzle: Light\", 57: \"Freezing Drizzle: Dense\",\n",
    "    61: \"Rain: Slight\", 63: \"Rain: Moderate\", 65: \"Rain: Heavy\",\n",
    "    66: \"Freezing Rain: Light\", 67: \"Freezing Rain: Heavy\",\n",
    "    71: \"Snow fall: Slight\", 73: \"Snow fall: Moderate\", 75: \"Snow fall: Heavy\",\n",
    "    77: \"Snow grains\", 80: \"Rain showers: Slight\", 81: \"Rain showers: Moderate\",\n",
    "    82: \"Rain showers: Violent\", 85: \"Snow showers: Slight\", 86: \"Snow showers: Heavy\",\n",
    "    95: \"Thunderstorm: Slight or moderate\", 96: \"Thunderstorm with slight hail\",\n",
    "    99: \"Thunderstorm with heavy hail\"\n",
    "}\n",
    "\n",
    "def get_weather_description(code):\n",
    "    return weather_codes.get(code, \"Unknown weather code\")\n",
    "\n",
    "def get_location():\n",
    "    try:\n",
    "        response = requests.get(\"https://ipinfo.io/json\")\n",
    "        data = response.json()\n",
    "        loc = data[\"loc\"].split(\",\")  # 'lat,long'\n",
    "        return {\n",
    "            \"latitude\": float(loc[0]),\n",
    "            \"longitude\": float(loc[1]),\n",
    "            \"city\": data.get(\"city\", \"Unknown\"),\n",
    "            \"region\": data.get(\"region\", \"\"),\n",
    "            \"country\": data.get(\"country\", \"\")\n",
    "        }\n",
    "    except:\n",
    "        return None\n",
    "\n",
    "def get_weather(latitude, longitude):\n",
    "    url = \"https://api.open-meteo.com/v1/forecast\"\n",
    "    params = {\n",
    "        \"latitude\": latitude,\n",
    "        \"longitude\": longitude,\n",
    "        \"current_weather\": True\n",
    "    }\n",
    "    response = requests.get(url, params=params)\n",
    "    data = response.json()\n",
    "    \n",
    "    current_weather = data[\"current_weather\"]\n",
    "    \n",
    "    temperature = current_weather[\"temperature\"]\n",
    "    windspeed = current_weather[\"windspeed\"]\n",
    "    weather_code = current_weather[\"weathercode\"]\n",
    "    is_day = current_weather[\"is_day\"]\n",
    "    \n",
    "    # Convert values\n",
    "    description = get_weather_description(weather_code)\n",
    "    day_status = \"Day\" if is_day == 1 else \"Night\"\n",
    "    \n",
    "    return {\n",
    "        \"temperature\": temperature,\n",
    "        \"windspeed\": windspeed,\n",
    "        \"description\": description,\n",
    "        \"time_of_day\": day_status\n",
    "    }\n",
    "\n",
    "# Main\n",
    "location = get_location()\n",
    "if location:\n",
    "    print(f\"📍 Location: {location['city']}, {location['country']}\")\n",
    "    weather = get_weather(location[\"latitude\"], location[\"longitude\"])\n",
    "    print(f\"🌡 Temperature: {weather['temperature']}°C\")\n",
    "    print(f\"💨 Windspeed: {weather['windspeed']} km/h\")\n",
    "    print(f\"☁ Condition: {weather['description']}\")\n",
    "    print(f\"🕒 Time of Day: {weather['time_of_day']}\")\n",
    "else:\n",
    "    print(\"Could not detect location.\")\n"
   ]
  }
 ],
 "metadata": {
  "kernelspec": {
   "display_name": "base",
   "language": "python",
   "name": "python3"
  },
  "language_info": {
   "codemirror_mode": {
    "name": "ipython",
    "version": 3
   },
   "file_extension": ".py",
   "mimetype": "text/x-python",
   "name": "python",
   "nbconvert_exporter": "python",
   "pygments_lexer": "ipython3",
   "version": "3.12.3"
  }
 },
 "nbformat": 4,
 "nbformat_minor": 5
}
