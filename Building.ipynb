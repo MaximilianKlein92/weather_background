{
 "cells": [
  {
   "cell_type": "markdown",
   "id": "ce922545",
   "metadata": {},
   "source": [
    "## Script for getting the weather of a location "
   ]
  },
  {
   "cell_type": "code",
   "execution_count": 1,
   "id": "56e82a1c",
   "metadata": {},
   "outputs": [
    {
     "name": "stdout",
     "output_type": "stream",
     "text": [
      "Temperature: 18.4°C\n",
      "Windspeed: 16.1 km/h\n"
     ]
    }
   ],
   "source": [
    "import requests\n",
    "\n",
    "# API endpoint (Open-Meteo provides free weather data without API key)\n",
    "url = \"https://api.open-meteo.com/v1/forecast\"\n",
    "params = {\n",
    "    \"latitude\": 52.52,     # Berlin\n",
    "    \"longitude\": 13.41,    # Berlin\n",
    "    \"current_weather\": True\n",
    "}\n",
    "\n",
    "# Send GET request\n",
    "response = requests.get(url, params=params)\n",
    "\n",
    "# Convert to JSON\n",
    "data = response.json()\n",
    "\n",
    "# Extract values\n",
    "current_weather = data[\"current_weather\"]\n",
    "print(f\"Temperature: {current_weather['temperature']}°C\")\n",
    "print(f\"Windspeed: {current_weather['windspeed']} km/h\")"
   ]
  },
  {
   "cell_type": "markdown",
   "id": "66cd2a22",
   "metadata": {},
   "source": [
    "### Mapping the weather codes "
   ]
  },
  {
   "cell_type": "code",
   "execution_count": 2,
   "id": "ee7b5c4f",
   "metadata": {},
   "outputs": [
    {
     "name": "stdout",
     "output_type": "stream",
     "text": [
      "Rain: Slight\n"
     ]
    }
   ],
   "source": [
    "# Weather code mapping\n",
    "weather_codes = {\n",
    "    0: \"Clear sky\",\n",
    "    1: \"Mainly clear\",\n",
    "    2: \"Partly cloudy\",\n",
    "    3: \"Overcast\",\n",
    "    45: \"Fog\",\n",
    "    48: \"Depositing rime fog\",\n",
    "    51: \"Drizzle: Light\",\n",
    "    53: \"Drizzle: Moderate\",\n",
    "    55: \"Drizzle: Dense intensity\",\n",
    "    56: \"Freezing Drizzle: Light\",\n",
    "    57: \"Freezing Drizzle: Dense\",\n",
    "    61: \"Rain: Slight\",\n",
    "    63: \"Rain: Moderate\",\n",
    "    65: \"Rain: Heavy\",\n",
    "    66: \"Freezing Rain: Light\",\n",
    "    67: \"Freezing Rain: Heavy\",\n",
    "    71: \"Snow fall: Slight\",\n",
    "    73: \"Snow fall: Moderate\",\n",
    "    75: \"Snow fall: Heavy\",\n",
    "    77: \"Snow grains\",\n",
    "    80: \"Rain showers: Slight\",\n",
    "    81: \"Rain showers: Moderate\",\n",
    "    82: \"Rain showers: Violent\",\n",
    "    85: \"Snow showers: Slight\",\n",
    "    86: \"Snow showers: Heavy\",\n",
    "    95: \"Thunderstorm: Slight or moderate\",\n",
    "    96: \"Thunderstorm with slight hail\",\n",
    "    99: \"Thunderstorm with heavy hail\"\n",
    "}\n",
    "\n",
    "def get_weather_description(code):\n",
    "    return weather_codes.get(code, \"Unknown weather code\")\n",
    "\n",
    "# Example:\n",
    "print(get_weather_description(61))  # Output: Rain: Slight"
   ]
  },
  {
   "cell_type": "code",
   "execution_count": null,
   "id": "359c06ba",
   "metadata": {},
   "outputs": [],
   "source": []
  },
  {
   "cell_type": "markdown",
   "id": "3d9195c6",
   "metadata": {},
   "source": []
  }
 ],
 "metadata": {
  "kernelspec": {
   "display_name": "base",
   "language": "python",
   "name": "python3"
  },
  "language_info": {
   "codemirror_mode": {
    "name": "ipython",
    "version": 3
   },
   "file_extension": ".py",
   "mimetype": "text/x-python",
   "name": "python",
   "nbconvert_exporter": "python",
   "pygments_lexer": "ipython3",
   "version": "3.12.3"
  }
 },
 "nbformat": 4,
 "nbformat_minor": 5
}
